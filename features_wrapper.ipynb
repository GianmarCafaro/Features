{
 "cells": [
  {
   "cell_type": "code",
   "execution_count": 1,
   "metadata": {},
   "outputs": [],
   "source": [
    "import numpy as np\n",
    "import matplotlib.pyplot as plt\n",
    "from scipy.integrate import odeint\n",
    "from scipy.signal import find_peaks, peak_prominences\n",
    "from scipy.stats import entropy\n",
    "import torch\n",
    "import time\n",
    "from sbi.inference.base import infer\n",
    "from sbi import inference\n",
    "import sbi.utils as utils\n",
    "from scipy import stats as spstats\n",
    "from scipy.stats import moment\n",
    "from scipy.stats import kurtosis\n",
    "from scipy.stats import skew\n",
    "from scipy.stats import mode\n",
    "import seaborn as sns\n",
    "from numba import jit"
   ]
  },
  {
   "cell_type": "code",
   "execution_count": 2,
   "metadata": {},
   "outputs": [],
   "source": [
    "\n",
    "def m_inf(v):\n",
    "    return 1.0 / (1.0 + np.exp((-24.0 - v) / 12.0))\n",
    "\n",
    "\n",
    "def n_inf(v):\n",
    "    return 1.0 / (1.0 + np.exp((-19.0 - v) / 18.0))\n",
    "\n",
    "\n",
    "def h(n):\n",
    "    return 1.1 - 1.0 / (1.0 + np.exp(-8.0 * (n - 0.4)))\n",
    "\n",
    "def model(z, Kb, g_Cl = 7.5, g_Na = 40.0, g_K = 22.0, g_Nal = 0.02, g_Kl = 0.12,gamma = 0.04,epsilon = 0.01):\n",
    "    # -------------------------------------------------------------\n",
    "    Cm = 1.0\n",
    "    tau_n = 0.25\n",
    "    # -------------------------------------------------------------\n",
    "    w_i = 2160.\n",
    "    w_o = 720.\n",
    "\n",
    "    rho = 250.\n",
    "    beta = w_i / w_o\n",
    "\n",
    "    K_bath = Kb\n",
    "\n",
    "    Na_i0 = 16.0\n",
    "    Na_o0 = 138.0\n",
    "    K_i0 = 140.0\n",
    "    K_o0 = 4.80\n",
    "    Cl_o0 = 112.0\n",
    "    Cl_i0 = 5.0\n",
    "    # -------------------------------------------------------------\n",
    "\n",
    "    V = z[0]\n",
    "    n = z[1]\n",
    "    DK_i = z[2]\n",
    "    Kg = z[3]\n",
    "\n",
    "    DNa_i = -DK_i\n",
    "    DNa_o = -beta * DNa_i\n",
    "    DK_o = -beta * DK_i\n",
    "    K_i = K_i0 + DK_i\n",
    "    Na_i = Na_i0 + DNa_i\n",
    "    Na_o = Na_o0 + DNa_o\n",
    "    K_o = K_o0 + DK_o + Kg\n",
    "    I_Na = (g_Nal + g_Na * m_inf(V) * h(n)) * (V - 26.64 * np.log(Na_o / Na_i))\n",
    "    I_K = (g_Kl + g_K * n) * (V - 26.64 * np.log(K_o / K_i))\n",
    "    I_Cl = g_Cl * (V + 26.64 * np.log(Cl_o0 / Cl_i0))\n",
    "    I_pump = rho * (1.0 / (1.0 + np.exp((21.0 - Na_i) / 2.0))) * (1.0 / (1.0 + np.exp((5.5 - K_o))))\n",
    "\n",
    "\n",
    "\n",
    "\n",
    "    dV = (-1.0 / Cm) * (I_Cl + I_Na + I_K + I_pump)\n",
    "    dn = (n_inf(V) - n) / tau_n\n",
    "    dKi = -(gamma / w_i) * (I_K - 2.0 * I_pump)\n",
    "    dKg = epsilon * (K_bath - K_o)\n",
    "\n",
    "    dz = [dV, dn, dKi, dKg]\n",
    "\n",
    "    return dz\n",
    "\n"
   ]
  },
  {
   "cell_type": "code",
   "execution_count": 3,
   "metadata": {},
   "outputs": [],
   "source": [
    "def reverser(v):\n",
    "    rev = {}\n",
    "    for i in range(0,len(v)):\n",
    "        rev[str(v[i])] = i\n",
    "    return rev"
   ]
  },
  {
   "cell_type": "code",
   "execution_count": 4,
   "metadata": {},
   "outputs": [],
   "source": [
    "def events_counter(w,th):\n",
    "    v = reverser(w)\n",
    "    burst = {}\n",
    "    n_burst = 0\n",
    "    burst['0'] = []\n",
    "    burst['0'].append(w[0])\n",
    "    for i in range(1,len(w)):\n",
    "        der = abs(v[str(w[i])]-v[str(w[i-1])])/abs(w[i]-w[i-1])\n",
    "        if der < th:\n",
    "            n_burst += 1\n",
    "            burst[str(n_burst)] = []\n",
    "        burst[str(n_burst)].append(w[i])\n",
    "    return burst"
   ]
  },
  {
   "cell_type": "code",
   "execution_count": 5,
   "metadata": {},
   "outputs": [],
   "source": [
    "def one_burst_selector(burst,N):\n",
    "    if len(burst) == 0:\n",
    "        return 0\n",
    "    elif burst[-1] >= 3*N/4:\n",
    "        return 100000\n",
    "    else:\n",
    "        return 0"
   ]
  },
  {
   "cell_type": "code",
   "execution_count": 6,
   "metadata": {},
   "outputs": [],
   "source": [
    "def peaks_reveal(v,peak_pos):\n",
    "    peaks = []\n",
    "    for i in peak_pos:\n",
    "        peaks.append(v[int(i)])\n",
    "    return np.array(peaks)"
   ]
  },
  {
   "cell_type": "code",
   "execution_count": 7,
   "metadata": {},
   "outputs": [],
   "source": [
    "def bin_peaks(v,events,mode = 'binary'):\n",
    "    v_bin = []\n",
    "    peak_pos = []\n",
    "    for Burst in events:\n",
    "        peak_pos.extend(list(events[Burst]))\n",
    "    minlength = min(peaks_reveal(v,peak_pos))\n",
    "    for i in range(0,len(v)):\n",
    "        if v[i] >= minlength:\n",
    "            v_bin.append(1)\n",
    "        else:\n",
    "            v_bin.append(0)\n",
    "    v_bin = np.array(v_bin)\n",
    "    if mode == 'binary':\n",
    "        return np.bincount(v_bin)\n",
    "    elif mode == 'bin_plot':\n",
    "        return v_bin"
   ]
  },
  {
   "cell_type": "code",
   "execution_count": 8,
   "metadata": {},
   "outputs": [],
   "source": [
    "def features_bursts(events,z):\n",
    "    tau_ave_burst = {}\n",
    "    tau_var_burst = {}\n",
    "    tau_slope_burst = {}\n",
    "    amp_ave_burst = {}\n",
    "    amp_var_burst = {}\n",
    "    amp_slope_burst = {}\n",
    "    for Burst in events:\n",
    "        tau_ave_burst[str(Burst)] = np.average(events[str(Burst)])\n",
    "        tau_var_burst[str(Burst)] = np.var(events[str(Burst)])/len(events[str(Burst)])\n",
    "        slope = (events[str(Burst)][-1]-events[str(Burst)][0])/len(events[str(Burst)])\n",
    "        if abs(slope) < 0.1:\n",
    "            tau_slope_burst[str(Burst)] = 0\n",
    "        elif slope > 0:\n",
    "            tau_slope_burst[str(Burst)] = 1\n",
    "        else:\n",
    "            tau_slope_burst[str(Burst)] = -1\n",
    "        amp = np.array([z[int(i)] for i in events[str(Burst)]])\n",
    "        amp_ave_burst[str(Burst)] = np.average(amp)\n",
    "        amp_var_burst[str(Burst)] = np.var(amp)/len(events[str(Burst)])\n",
    "        slope = (amp[-1]-amp[0])/(events[str(Burst)][-1]-events[str(Burst)][0])\n",
    "        if abs(slope) < 0.1:\n",
    "            amp_slope_burst[str(Burst)] = 0\n",
    "        elif slope > 0:\n",
    "            amp_slope_burst[str(Burst)] = 1\n",
    "        else:\n",
    "            amp_slope_burst[str(Burst)] = -1\n",
    "    return tau_ave_burst, tau_var_burst, amp_ave_burst, amp_var_burst, tau_slope_burst, amp_slope_burst"
   ]
  },
  {
   "cell_type": "code",
   "execution_count": 9,
   "metadata": {},
   "outputs": [],
   "source": [
    "def features_series(events,z):\n",
    "    f = features_bursts(events,z)\n",
    "    ave_on_serie_tau = {}\n",
    "    var_on_serie_tau = {}\n",
    "    ave_on_serie_amp = {}\n",
    "    var_on_serie_amp = {}   \n",
    "    ISI_ave_serie = {}\n",
    "    ISI_var_serie = {}\n",
    "    S = {}\n",
    "    Num_of_spikes = {}\n",
    "    Num_burst = {}\n",
    "    ave_on_serie_tau = 0\n",
    "    var_on_serie_tau = 0\n",
    "    ave_on_serie_amp = 0\n",
    "    var_on_serie_amp = 0\n",
    "    Tau = []\n",
    "    if len(events) == 1:\n",
    "        ISI_ave_serie = one_burst_selector(burst=events['0'],N = len(z))\n",
    "        ISI_var_serie = 0\n",
    "    else:\n",
    "        for Burst in events:\n",
    "            if int(Burst) < len(events)-1:\n",
    "                Tau.append(events[str(int(Burst)+1)][0]-events[str(Burst)][-1])\n",
    "        Tau = np.array(Tau)\n",
    "        ISI_ave_serie = np.average(Tau)\n",
    "        ISI_var_serie = np.var(Tau)\n",
    "    binary_arr = bin_peaks(z,events)\n",
    "    en = entropy(binary_arr, base = 10)/len(z)\n",
    "    S = en\n",
    "    Num_of_spikes = 0\n",
    "    for Burst in events:\n",
    "        ave_on_serie_tau += f[0][str(Burst)]/(len(events))\n",
    "        var_on_serie_tau += f[1][str(Burst)]/(len(events))\n",
    "        ave_on_serie_amp += f[2][str(Burst)]/(len(events))\n",
    "        var_on_serie_amp += f[3][str(Burst)]/(len(events))\n",
    "        Num_of_spikes += len(events[str(Burst)])/len(z)\n",
    "        Num_burst = len(events)/len(z)\n",
    "    features = np.array([ave_on_serie_tau,var_on_serie_tau,ave_on_serie_amp,var_on_serie_amp,ISI_ave_serie, ISI_var_serie, Num_burst, Num_of_spikes, S])\n",
    "    return features"
   ]
  },
  {
   "cell_type": "code",
   "execution_count": 10,
   "metadata": {},
   "outputs": [],
   "source": [
    "def calculate_summary_statistics(v,th):\n",
    "    events = events_counter(v,th)\n",
    "    return features_series(events,v)"
   ]
  },
  {
   "cell_type": "code",
   "execution_count": 11,
   "metadata": {},
   "outputs": [],
   "source": [
    "def _Damien_model(params,ts,dt,gamma = 0.04,epsilon = 0.01):\n",
    "    v_0 = -78.0\n",
    "    n_inf = 1.0 / (1.0 + np.exp((-19.0 - v_0) / 18.0))\n",
    "    z0 = [-78.0, n_inf, -0.6, 0.8]\n",
    "    Np = 10000\n",
    "    t = np.linspace(0, Np, int(Np / 0.01))\n",
    "    v = np.zeros_like(t)\n",
    "    n = np.zeros_like(t)\n",
    "    DK_i =  np.zeros_like(t)\n",
    "    Kg =  np.zeros_like(t)\n",
    "    Cm = 1.0\n",
    "    tau_n = 0.25\n",
    "    # -------------------------------------------------------------\n",
    "    w_i = 2160.\n",
    "    w_o = 720.\n",
    "\n",
    "    rho = 250.\n",
    "    beta = w_i / w_o\n",
    "\n",
    "    K_bath = params\n",
    "\n",
    "    Na_i0 = 16.0\n",
    "    Na_o0 = 138.0\n",
    "    K_i0 = 140.0\n",
    "    K_o0 = 4.80\n",
    "    Cl_o0 = 112.0\n",
    "    Cl_i0 = 5.0\n",
    "    g_Cl = 7.5\n",
    "    g_Na = 40.0\n",
    "    g_K = 22.0\n",
    "    g_Nal = 0.02\n",
    "    g_Kl = 0.12\n",
    "    v[0] = z0[0]\n",
    "    n[0] = z0[1]\n",
    "    DK_i[0] = z0[2]\n",
    "    Kg[0] =  z0[3]\n",
    "    for i in range(1,ts.shape[0]):\n",
    "        DNa_i = -DK_i[i-1]\n",
    "        DNa_o = -beta * DNa_i\n",
    "        DK_o = -beta * DK_i[i-1]\n",
    "        K_i = K_i0 + DK_i[i-1]\n",
    "        Na_i = Na_i0 + DNa_i\n",
    "        Na_o = Na_o0 + DNa_o\n",
    "        K_o = K_o0 + DK_o + Kg[i-1]\n",
    "        \n",
    "        m_inf =  1.0 / (1.0 + np.exp((-24.0 - v[i-1]) / 12.0))\n",
    "        n_inf = 1.0 / (1.0 + np.exp((-19.0 - v[i-1]) / 18.0))\n",
    "        h_n = 1.1 - 1.0 / (1.0 + np.exp(-8.0 * (n[i-1] - 0.4)))\n",
    "\n",
    "        I_Na = (g_Nal + g_Na * m_inf * h_n) * (v[i-1] - 26.64 * np.log(Na_o / Na_i))\n",
    "        I_K = (g_Kl + g_K * n[i-1]) * (v[i-1] - 26.64 * np.log(K_o / K_i))\n",
    "        I_Cl = g_Cl * (v[i-1] + 26.64 * np.log(Cl_o0 / Cl_i0))\n",
    "        I_pump = rho * (1.0 / (1.0 + np.exp((21.0 - Na_i) / 2.0))) * (1.0 / (1.0 + np.exp((5.5 - K_o))))\n",
    "\n",
    "        dv = (-1.0 / Cm) * (I_Cl + I_Na + I_K + I_pump)\n",
    "        dn = (n_inf - n[i-1]) / tau_n\n",
    "        dDK_i = -(gamma / w_i) * (I_K - 2.0 * I_pump)\n",
    "        dKg = epsilon * (K_bath - K_o)\n",
    "\n",
    "        #dv, dn ,dki, dkg = model(z0,params)\n",
    "        v[i] = v[i-1] + dt * dv\n",
    "        n[i] = n[i-1] + dt * dn\n",
    "        DK_i[i] = DK_i[i-1] + dt * dDK_i\n",
    "        Kg[i] = Kg[i-1] + dt * dKg\n",
    "    return np.concatenate((np.array(v).reshape(-1), np.array(n).reshape(-1),np.array(DK_i).reshape(-1),np.array(Kg).reshape(-1)))"
   ]
  },
  {
   "cell_type": "code",
   "execution_count": 12,
   "metadata": {},
   "outputs": [],
   "source": [
    "@jit(nopython=True)\n",
    "def ode_Damien_model(params):\n",
    "    t_init = 0\n",
    "    t_final = 10000\n",
    "    dt = 0.01\n",
    "    gamma=0.04\n",
    "    epsilon=0.01\n",
    "    ts = np.arange(t_init,t_final,dt)\n",
    "    v_0 = -78.0\n",
    "    n_inf = 1.0 / (1.0 + np.exp((-19.0 - v_0) / 18.0))\n",
    "    z0 = np.array([-78.0, n_inf, -0.6, 0.8])\n",
    "    Np = 10000\n",
    "    t = np.linspace(0, Np, int(Np / 0.01))\n",
    "    v = np.zeros_like(t)\n",
    "    n = np.zeros_like(t)\n",
    "    DK_i = np.zeros_like(t)\n",
    "    Kg = np.zeros_like(t)\n",
    "    Cm = 1.0\n",
    "    tau_n = 0.25\n",
    "\n",
    "    w_i = 2160.\n",
    "    w_o = 720.\n",
    "    rho = 250.\n",
    "    beta = w_i / w_o\n",
    "\n",
    "    K_bath = params\n",
    "\n",
    "    Na_i0 = 16.0\n",
    "    Na_o0 = 138.0\n",
    "    K_i0 = 140.0\n",
    "    K_o0 = 4.80\n",
    "    Cl_o0 = 112.0\n",
    "    Cl_i0 = 5.0\n",
    "    g_Cl = 7.5\n",
    "    g_Na = 40.0\n",
    "    g_K = 22.0\n",
    "    g_Nal = 0.02\n",
    "    g_Kl = 0.12\n",
    "    v[0] = z0[0]\n",
    "    n[0] = z0[1]\n",
    "    DK_i[0] = z0[2]\n",
    "    Kg[0] = z0[3]\n",
    "\n",
    "    for i in range(1, ts.shape[0]):\n",
    "        DNa_i = -DK_i[i - 1]\n",
    "        DNa_o = -beta * DNa_i\n",
    "        DK_o = -beta * DK_i[i - 1]\n",
    "        K_i = K_i0 + DK_i[i - 1]\n",
    "        Na_i = Na_i0 + DNa_i\n",
    "        Na_o = Na_o0 + DNa_o\n",
    "        K_o = K_o0 + DK_o + Kg[i - 1]\n",
    "\n",
    "        m_inf = 1.0 / (1.0 + np.exp((-24.0 - v[i - 1]) / 12.0))\n",
    "        n_inf = 1.0 / (1.0 + np.exp((-19.0 - v[i - 1]) / 18.0))\n",
    "        h_n = 1.1 - 1.0 / (1.0 + np.exp(-8.0 * (n[i - 1] - 0.4)))\n",
    "\n",
    "        I_Na = (g_Nal + g_Na * m_inf * h_n) * (v[i - 1] - 26.64 * np.log(Na_o / Na_i))\n",
    "        I_K = (g_Kl + g_K * n[i - 1]) * (v[i - 1] - 26.64 * np.log(K_o / K_i))\n",
    "        I_Cl = g_Cl * (v[i - 1] + 26.64 * np.log(Cl_o0 / Cl_i0))\n",
    "        I_pump = rho * (1.0 / (1.0 + np.exp((21.0 - Na_i) / 2.0))) * (1.0 / (1.0 + np.exp((5.5 - K_o))))\n",
    "\n",
    "        dv = (-1.0 / Cm) * (I_Cl + I_Na + I_K + I_pump)\n",
    "        dn = (n_inf - n[i - 1]) / tau_n\n",
    "        dDK_i = -(gamma / w_i) * (I_K - 2.0 * I_pump)\n",
    "        dKg = epsilon * (K_bath - K_o)\n",
    "\n",
    "        v[i] = v[i - 1] + dt * dv\n",
    "        n[i] = n[i - 1] + dt * dn\n",
    "        DK_i[i] = DK_i[i - 1] + dt * dDK_i\n",
    "        Kg[i] = Kg[i - 1] + dt * dKg\n",
    "\n",
    "    return np.concatenate((v, n, DK_i, Kg))\n"
   ]
  },
  {
   "cell_type": "code",
   "execution_count": 12,
   "metadata": {},
   "outputs": [],
   "source": [
    "ode_Damien_model = jit(_Damien_model)"
   ]
  },
  {
   "cell_type": "code",
   "execution_count": 13,
   "metadata": {},
   "outputs": [],
   "source": [
    "def Damien_model_Wrapper(params):\n",
    "\n",
    "    params_ = np.asarray(params)\n",
    "    V = -78.0\n",
    "    n_inf = 1.0 / (1.0 + np.exp((-19.0 - V) / 18.0))\n",
    "    z0 = np.array([V, n_inf, -0.6, 0.8])\n",
    "    t_init = 0\n",
    "    t_final = 10000\n",
    "    dt = 0.01\n",
    "    \n",
    "    ts = np.arange(t_init,t_final,dt)\n",
    "    nt=ts.shape[0]\n",
    "\n",
    "    v = ode_Damien_model(params_[0])[0:nt]#,ts,dt)[0:nt]\n",
    "    \n",
    "    summstats = torch.as_tensor(calculate_summary_statistics(v.reshape(-1), th= 0.00012))\n",
    "    \n",
    "    return summstats"
   ]
  },
  {
   "cell_type": "code",
   "execution_count": 14,
   "metadata": {},
   "outputs": [],
   "source": [
    "prior_min = [4]\n",
    "prior_max = [25.0]\n",
    "prior = utils.torchutils.BoxUniform(low=torch.as_tensor(prior_min), high=torch.as_tensor(prior_max))"
   ]
  },
  {
   "cell_type": "code",
   "execution_count": 15,
   "metadata": {},
   "outputs": [
    {
     "data": {
      "text/plain": [
       "tensor([20.2419])"
      ]
     },
     "execution_count": 15,
     "metadata": {},
     "output_type": "execute_result"
    }
   ],
   "source": [
    "prior.sample()   \n",
    "\n"
   ]
  },
  {
   "cell_type": "code",
   "execution_count": 16,
   "metadata": {},
   "outputs": [
    {
     "data": {
      "text/plain": [
       "[5.767617225646973]"
      ]
     },
     "execution_count": 16,
     "metadata": {},
     "output_type": "execute_result"
    }
   ],
   "source": [
    "prior.sample().tolist()"
   ]
  },
  {
   "cell_type": "code",
   "execution_count": 17,
   "metadata": {},
   "outputs": [
    {
     "data": {
      "text/plain": [
       "(1000, 1)"
      ]
     },
     "execution_count": 17,
     "metadata": {},
     "output_type": "execute_result"
    }
   ],
   "source": [
    "prior_samples=np.stack([prior.sample().tolist() for _ in range(1000)], axis=0)\n",
    "prior_samples.shape"
   ]
  },
  {
   "cell_type": "code",
   "execution_count": 18,
   "metadata": {},
   "outputs": [
    {
     "data": {
      "text/plain": [
       "1"
      ]
     },
     "execution_count": 18,
     "metadata": {},
     "output_type": "execute_result"
    }
   ],
   "source": [
    "num_params=prior.sample().shape[0]\n",
    "num_params"
   ]
  },
  {
   "cell_type": "code",
   "execution_count": 19,
   "metadata": {},
   "outputs": [],
   "source": [
    "num_sims=10\n"
   ]
  },
  {
   "cell_type": "code",
   "execution_count": 20,
   "metadata": {},
   "outputs": [
    {
     "data": {
      "application/vnd.jupyter.widget-view+json": {
       "model_id": "f2b79cc040234e01b62b11fab8264108",
       "version_major": 2,
       "version_minor": 0
      },
      "text/plain": [
       "Running 10 simulations.:   0%|          | 0/10 [00:00<?, ?it/s]"
      ]
     },
     "metadata": {},
     "output_type": "display_data"
    },
    {
     "name": "stderr",
     "output_type": "stream",
     "text": [
      "/Library/Frameworks/Python.framework/Versions/3.9/lib/python3.9/site-packages/sbi/neural_nets/flow.py:141: UserWarning: In one-dimensional output space, this flow is limited to Gaussians\n",
      "  warn(\"In one-dimensional output space, this flow is limited to Gaussians\")\n"
     ]
    },
    {
     "name": "stdout",
     "output_type": "stream",
     "text": [
      " Neural network successfully converged after 127 epochs.------------------------------------------------------------\n",
      "--- 32.46448588371277 seconds ---\n"
     ]
    }
   ],
   "source": [
    "start_time = time.time()\n",
    "posterior = infer(Damien_model_Wrapper, prior, method='SNPE', num_simulations=num_sims, num_workers=1)\n",
    "\n",
    "print (\"-\"*60)\n",
    "print(\"--- %s seconds ---\" % (time.time() - start_time))"
   ]
  },
  {
   "cell_type": "code",
   "execution_count": null,
   "metadata": {},
   "outputs": [],
   "source": [
    "params_label=np.array(['$\\K$'])"
   ]
  },
  {
   "cell_type": "markdown",
   "metadata": {},
   "source": [
    "Plot the membrane potential v and firing rate r"
   ]
  },
  {
   "cell_type": "code",
   "execution_count": null,
   "metadata": {},
   "outputs": [],
   "source": [
    "v_0 = -78.0\n",
    "n_inf = 1.0 / (1.0 + np.exp((-19.0 - v_0) / 18.0))\n",
    "z0 = [-78.0, n_inf, -0.6, 0.8]\n",
    "t_init = 0\n",
    "t_final = 10000\n",
    "dt = 0.01\n",
    "ts = np.arange(t_init,t_final,dt)\n",
    "nt=ts.shape[0]\n",
    "K_true=7.5\n",
    "true_params = np.array([K_true])"
   ]
  },
  {
   "cell_type": "code",
   "execution_count": null,
   "metadata": {},
   "outputs": [],
   "source": [
    "x_obs = ode_Damien_model(true_params[0])\n",
    "v_obs=x_obs[0:nt]\n",
    "r_obs=x_obs[nt:2*nt]\n",
    "x_obs_summary_statistics=calculate_summary_statistics(v_obs.reshape(-1), th= 0.00012)"
   ]
  },
  {
   "cell_type": "code",
   "execution_count": null,
   "metadata": {},
   "outputs": [
    {
     "data": {
      "image/png": "[encoded data removed]",
      "text/plain": [
       "<Figure size 720x432 with 2 Axes>"
      ]
     },
     "metadata": {
      "needs_background": "light"
     },
     "output_type": "display_data"
    }
   ],
   "source": [
    "plt.figure(figsize=(10, 6))\n",
    "plt.subplot(211)\n",
    "plt.plot(ts, v_obs, '.',  markersize=4, color='blue', label='observed')\n",
    "plt.xlabel('Time', fontsize=18)\n",
    "plt.ylabel('Voltage v', fontsize=18)\n",
    "plt.xticks(fontsize=14)\n",
    "plt.yticks(fontsize=14)\n",
    "plt.legend(loc='upper right',fontsize=14, frameon=False)\n",
    "plt.tight_layout()\n",
    "plt.grid()\n",
    "\n",
    "plt.subplot(212)\n",
    "plt.plot(ts, r_obs, '.',  markersize=4, color='red',label='hidden')\n",
    "plt.xlabel('Time', fontsize=18)\n",
    "plt.ylabel('Firing rate r',fontsize=18)\n",
    "plt.xticks(fontsize=14)\n",
    "plt.yticks(fontsize=14)\n",
    "plt.legend(loc='upper right', fontsize=14, frameon=False)\n",
    "plt.tight_layout()\n",
    "plt.grid()\n",
    "plt.show()"
   ]
  },
  {
   "cell_type": "markdown",
   "metadata": {},
   "source": [
    "POSTERIOR SAMPLING"
   ]
  },
  {
   "cell_type": "code",
   "execution_count": 340,
   "metadata": {},
   "outputs": [],
   "source": [
    "num_samples=10000"
   ]
  },
  {
   "cell_type": "code",
   "execution_count": 341,
   "metadata": {},
   "outputs": [
    {
     "data": {
      "application/vnd.jupyter.widget-view+json": {
       "model_id": "904a1189cf0e4b08869eaaabd7e3ed08",
       "version_major": 2,
       "version_minor": 0
      },
      "text/plain": [
       "Drawing 10000 posterior samples:   0%|          | 0/10000 [00:00<?, ?it/s]"
      ]
     },
     "metadata": {},
     "output_type": "display_data"
    },
    {
     "name": "stdout",
     "output_type": "stream",
     "text": [
      "------------------------------------------------------------\n",
      "--- posterior sampling took: 0.07731890678405762 seconds ---\n"
     ]
    }
   ],
   "source": [
    "start_time = time.time()\n",
    "\n",
    "posterior_samples = posterior.sample((num_samples,), x_obs_summary_statistics).numpy()\n",
    "\n",
    "print (\"-\"*60)\n",
    "print(\"--- posterior sampling took: %s seconds ---\" % (time.time() - start_time))"
   ]
  },
  {
   "cell_type": "code",
   "execution_count": 342,
   "metadata": {},
   "outputs": [
    {
     "data": {
      "text/plain": [
       "(10000, 1)"
      ]
     },
     "execution_count": 342,
     "metadata": {},
     "output_type": "execute_result"
    }
   ],
   "source": [
    "posterior_samples.shape"
   ]
  },
  {
   "cell_type": "code",
   "execution_count": 343,
   "metadata": {},
   "outputs": [],
   "source": [
    "K_est=posterior_samples[:,0]"
   ]
  },
  {
   "cell_type": "code",
   "execution_count": 344,
   "metadata": {},
   "outputs": [
    {
     "name": "stdout",
     "output_type": "stream",
     "text": [
      "K_est= 6.703111\n"
     ]
    }
   ],
   "source": [
    "print(\"K_est=\", K_est.mean())"
   ]
  },
  {
   "cell_type": "code",
   "execution_count": 345,
   "metadata": {},
   "outputs": [
    {
     "data": {
      "image/png": "[encoded data removed]",
      "text/plain": [
       "<Figure size 360x432 with 1 Axes>"
      ]
     },
     "metadata": {
      "needs_background": "light"
     },
     "output_type": "display_data"
    }
   ],
   "source": [
    "plt.figure(figsize=(5, 6))\n",
    "for i, variables in enumerate([K_est]):\n",
    "    plt.subplot(1,params_label.shape[0],i+1)\n",
    "    plt.violinplot(variables, widths=0.7, showmeans=True, showextrema=True);\n",
    "    plt.axhline(y=true_params[i], linewidth=2, color='r')\n",
    "    plt.ylabel('K', fontsize=24)   \n",
    "    plt.xticks([])\n",
    "    plt.yticks(fontsize=14)\n",
    "plt.tight_layout(pad=0.4, w_pad=0.5, h_pad=1.0)\n",
    "plt.show()"
   ]
  },
  {
   "cell_type": "code",
   "execution_count": 346,
   "metadata": {},
   "outputs": [
    {
     "data": {
      "image/png": "[encoded data removed]",
      "text/plain": [
       "<Figure size 1152x288 with 1 Axes>"
      ]
     },
     "metadata": {
      "needs_background": "light"
     },
     "output_type": "display_data"
    }
   ],
   "source": [
    "plt.figure(figsize=(16, 4))\n",
    "\n",
    "for i in range (num_params): \n",
    "    ax = plt.subplot(1, 3, i + 1)\n",
    "    ax=sns.distplot(posterior_samples[:,i], bins=100, hist=True, kde=True, rug=True, rug_kws={\"alpha\": 0.1, \"color\": \"g\"},\n",
    "                  kde_kws={\"color\": \"b\", \"alpha\": 0.9, \"lw\": 3, \"label\": \"KDE\"},\n",
    "                  hist_kws={\"histtype\": \"step\", \"linewidth\": 1, \"alpha\": 0.6, \"color\": \"g\"},\n",
    "                  label='SBI')\n",
    "\n",
    "    x_ = ax.lines[0].get_xdata()\n",
    "    y_ = ax.lines[0].get_ydata()\n",
    "    ymax = max(y_)\n",
    "    xpos = np.argmax(y_, axis=0)\n",
    "    xmax = x_[xpos]\n",
    "    plt.vlines(x=xmax, ymin=0., ymax=y_.max(), colors='cyan', label='MAP')\n",
    "    plt.vlines(x=true_params[i], ymin=0., ymax=y_.max(), colors='r', label='Truth')\n",
    "\n",
    "    plt.xlabel('K', fontsize=20)   \n",
    "    plt.xticks(fontsize=14)\n",
    "    plt.yticks(fontsize=14)\n",
    "\n",
    "    if i==0:\n",
    "        plt.ylabel(' Posterior ', fontsize=18);  \n",
    "    else:\n",
    "        plt.ylabel('')\n",
    "        \n",
    "    if i==2:\n",
    "            plt.legend(fontsize=16, frameon=False)\n",
    " \n",
    "plt.tight_layout(pad=1.0)\n",
    "plt.show()"
   ]
  },
  {
   "cell_type": "code",
   "execution_count": 347,
   "metadata": {},
   "outputs": [
    {
     "data": {
      "image/png": "[encoded data removed]",
      "text/plain": [
       "<Figure size 1152x288 with 1 Axes>"
      ]
     },
     "metadata": {
      "needs_background": "light"
     },
     "output_type": "display_data"
    }
   ],
   "source": [
    "plt.figure(figsize=(16, 4))\n",
    "\n",
    "for i in range (num_params): \n",
    "    ax = plt.subplot(1, 3, i + 1)\n",
    "    \n",
    "   \n",
    "    ax=sns.distplot(posterior_samples[:,i], bins=100, hist=False, kde=True, rug=False, rug_kws={\"alpha\": 0.1, \"color\": \"g\"},\n",
    "                  kde_kws={\"color\": \"b\", \"alpha\": 0.9, \"lw\": 3, \"label\": \"Posterior\"})\n",
    "    \n",
    "    ax_=sns.distplot(prior_samples[:,i], bins=100, hist=False, kde=True, rug=False, rug_kws={\"alpha\": 0.1, \"color\": \"g\"},\n",
    "                  kde_kws={\"color\": \"g\", \"alpha\": 0.9, \"lw\": 3, \"label\": \"Prior\"})\n",
    "\n",
    "    x_ = ax.lines[0].get_xdata()\n",
    "    y_ = ax.lines[0].get_ydata()\n",
    "    ymax = max(y_)\n",
    "    xpos = np.argmax(y_, axis=0)\n",
    "    xmax = x_[xpos]\n",
    "    plt.vlines(x=xmax, ymin=0., ymax=y_.max(), colors='cyan', label='MAP')\n",
    "    plt.vlines(x=true_params[i], ymin=0., ymax=y_.max(), colors='r', label='Truth')\n",
    "\n",
    "    plt.xlabel('K', fontsize=20)   \n",
    "    plt.xticks(fontsize=14)\n",
    "    plt.yticks(fontsize=14)\n",
    "\n",
    "    if i==0:\n",
    "        plt.ylabel(' Posterior ', fontsize=18);  \n",
    "    else:\n",
    "        plt.ylabel('')\n",
    "        \n",
    "    if i==2:\n",
    "            plt.legend(fontsize=16, frameon=False)\n",
    " \n",
    "plt.tight_layout(pad=1.0)\n",
    "plt.show()"
   ]
  },
  {
   "cell_type": "code",
   "execution_count": null,
   "metadata": {},
   "outputs": [],
   "source": []
  }
 ],
 "metadata": {
  "kernelspec": {
   "display_name": "Python 3",
   "language": "python",
   "name": "python3"
  },
  "language_info": {
   "codemirror_mode": {
    "name": "ipython",
    "version": 3
   },
   "file_extension": ".py",
   "mimetype": "text/x-python",
   "name": "python",
   "nbconvert_exporter": "python",
   "pygments_lexer": "ipython3",
   "version": "3.9.6"
  }
 },
 "nbformat": 4,
 "nbformat_minor": 2
}
