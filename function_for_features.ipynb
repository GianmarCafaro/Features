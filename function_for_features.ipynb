{
 "cells": [
  {
   "cell_type": "code",
   "execution_count": 1,
   "metadata": {},
   "outputs": [],
   "source": [
    "import numpy as np\n",
    "import matplotlib.pyplot as plt\n",
    "from scipy.integrate import odeint\n",
    "from scipy.signal import find_peaks, peak_prominences\n",
    "from scipy.stats import entropy"
   ]
  },
  {
   "cell_type": "markdown",
   "metadata": {},
   "source": [
    "PLOT FUNCTION FOR TIME SERIES"
   ]
  },
  {
   "cell_type": "code",
   "execution_count": null,
   "metadata": {},
   "outputs": [],
   "source": [
    "def pulse_output_plotter(v,Ts,name,t_min,t_max,scatter=False):\n",
    "    plt.figure(figsize=(10, 8))\n",
    "    plt.subplot(311)\n",
    "    plt.plot([Ts[i] for i in range(0,len(Ts)) if Ts[i]> t_min and Ts[i]< t_max],[v[i] for i in range(0,len(Ts)) if Ts[i]> t_min and Ts[i]< t_max], 'b', linewidth=2, label=name)\n",
    "    plt.xlabel('Time'); plt.ylabel(name);\n",
    "    plt.legend(loc='upper right')\n",
    "    plt.grid()\n",
    "    if scatter is True:\n",
    "            plt.plot([Ts[i] for i in range(0,len(Ts)) if Ts[i]> t_min and Ts[i]< t_max],[v[i] for i in range(0,len(Ts)) if Ts[i]> t_min and Ts[i]< t_max], 'b', linewidth=2, label=name)"
   ]
  },
  {
   "cell_type": "markdown",
   "metadata": {},
   "source": [
    "DEFINITION OF THE FUNCTION TO REVERSE INDEX AND VALUES"
   ]
  },
  {
   "cell_type": "code",
   "execution_count": null,
   "metadata": {},
   "outputs": [],
   "source": [
    "def reverser(v):\n",
    "    rev = {}\n",
    "    for i in range(0,len(v)):\n",
    "        rev[str(v[i])] = i\n",
    "    return rev"
   ]
  },
  {
   "cell_type": "markdown",
   "metadata": {},
   "source": [
    "DEFINITION OF THE FUNCTION FOR ASSIGN A VALUE FOR THE BURTS DISTANCE OF ONE BURST TIME SERIES"
   ]
  },
  {
   "cell_type": "code",
   "execution_count": null,
   "metadata": {},
   "outputs": [],
   "source": [
    "def one_burst_selector(burst,N):\n",
    "    if len(burst) == 0:\n",
    "        return 0\n",
    "    elif burst[-1] >= 3*N/4:\n",
    "        return 100000\n",
    "    else:\n",
    "        return 0"
   ]
  },
  {
   "cell_type": "markdown",
   "metadata": {},
   "source": [
    "DEFINITION OF THE FUNCTION TO EVALUATE THE VALUE OF THE POTENTIAL ON THE PEAK POSITION"
   ]
  },
  {
   "cell_type": "code",
   "execution_count": null,
   "metadata": {},
   "outputs": [],
   "source": [
    "def peaks_reveal(v,peak_pos):\n",
    "    peaks = []\n",
    "    for i in peak_pos:\n",
    "        peaks.append(v[int(i)])\n",
    "    return np.array(peaks)"
   ]
  },
  {
   "cell_type": "markdown",
   "metadata": {},
   "source": [
    "DEFINITION OF THE FUNCTION TO CONVERT THE TIME SERIES IN BINARY NUMBER AND COUNT THE NUMER OF BINS"
   ]
  },
  {
   "cell_type": "code",
   "execution_count": null,
   "metadata": {},
   "outputs": [],
   "source": [
    "def bin_peaks(v,events,mode = 'binary'):\n",
    "    v_bin = []\n",
    "    peak_pos = []\n",
    "    for Burst in events:\n",
    "        peak_pos.extend(list(events[Burst]))\n",
    "    minlength = min(peaks_reveal(v,peak_pos))\n",
    "    for i in range(0,len(v)):\n",
    "        if v[i] >= minlength:\n",
    "            v_bin.append(1)\n",
    "        else:\n",
    "            v_bin.append(0)\n",
    "    v_bin = np.array(v_bin)\n",
    "    if mode == 'binary':\n",
    "        return np.bincount(v_bin)\n",
    "    elif mode == 'bin_plot':\n",
    "        return v_bin"
   ]
  },
  {
   "cell_type": "markdown",
   "metadata": {},
   "source": [
    "DEFINITION OF THE FUNCTION FOR THE DETCTION OF THE CHARACTERISTICS OF ONSET AND OFFSET PEAKS"
   ]
  },
  {
   "cell_type": "code",
   "execution_count": null,
   "metadata": {},
   "outputs": [],
   "source": [
    "def Bif_detection(peak_pos,z):\n",
    "    N = len(peak_pos)\n",
    "    first_peak = peak_pos[0]\n",
    "    last_peak = peak_pos[N-1]\n",
    "    first_peak = peak_pos[0]\n",
    "    last_peak = peak_pos[N-1]\n",
    "    first_peak = peak_pos[0]\n",
    "    last_peak = peak_pos[N-1]\n",
    "    f_peak_dist = np.floor((peak_pos[1] - peak_pos[0])/2)\n",
    "    l_peak_dist = np.floor((peak_pos[N-1] - peak_pos[N-2])/2)\n",
    "    z_left_f_peak = z[int(first_peak-f_peak_dist)]\n",
    "    \n",
    "    z_right_f_peak = min([z[i] for i in range(peak_pos[0]-1,peak_pos[1])])\n",
    "    z_left_l_peak = z[int(last_peak-l_peak_dist)]\n",
    "    max_prom = max(peak_prominences(z,peak_pos)[0])\n",
    "    first_prom = peak_prominences(z,peak_pos)[0][0]\n",
    "    last_prom = peak_prominences(z,peak_pos)[0][-1]\n",
    "    onset_amp = first_prom /max_prom\n",
    "    onset_diff = abs(z_left_f_peak) - abs(z_right_f_peak)\n",
    "    z_right_l_peak = min([z[i] for i in range(peak_pos[N-2] , peak_pos[N-1]+1)])\n",
    "    offset_amp =  last_prom /max_prom\n",
    "    offset_diff = z_left_l_peak - z_right_l_peak\n",
    "    return onset_amp,onset_diff,offset_amp,offset_diff"
   ]
  },
  {
   "cell_type": "markdown",
   "metadata": {},
   "source": [
    "DEFINITION OF THE FUNCTION FOR THE SEPARATION OF THE BURSTS ON A TIME SERIE"
   ]
  },
  {
   "cell_type": "code",
   "execution_count": null,
   "metadata": {},
   "outputs": [],
   "source": [
    "def events_counter(w,th=0.00012):\n",
    "    v = reverser(w)\n",
    "    burst = {}\n",
    "    n_burst = 0\n",
    "    burst['0'] = []\n",
    "    burst['0'].append(w[0])\n",
    "    for i in range(1,len(w)):\n",
    "        der = abs(v[str(w[i])]-v[str(w[i-1])])/abs(w[i]-w[i-1])\n",
    "        if der < th:\n",
    "            n_burst += 1\n",
    "            burst[str(n_burst)] = []\n",
    "        burst[str(n_burst)].append(w[i])\n",
    "    return burst"
   ]
  },
  {
   "cell_type": "markdown",
   "metadata": {},
   "source": [
    "DEFINITION OF THE FUNCTION TO DIVIDE THE TIME SERIE IN INTERVALLS"
   ]
  },
  {
   "cell_type": "code",
   "execution_count": null,
   "metadata": {},
   "outputs": [],
   "source": [
    "def intervall_divisor(z,peak_pos,n=3):\n",
    "    first_peak = peak_pos[0]\n",
    "    N = peak_pos[-1] - first_peak\n",
    "    interval = {}\n",
    "    for i in range(0,n):\n",
    "        interval[str(i)] = []\n",
    "        if i == 0:\n",
    "            for j in range(first_peak,first_peak+int(N/n)):\n",
    "                if j in peak_pos:\n",
    "                    interval[str(i)].append(1)\n",
    "                else:\n",
    "                    interval[str(i)].append(0)\n",
    "        else:\n",
    "            for j in range(first_peak+int(N/(n-i+1)),first_peak+int(N/(n-i))):\n",
    "                if j in peak_pos:\n",
    "                    interval[str(i)].append(1)\n",
    "                else:\n",
    "                    interval[str(i)].append(0)\n",
    "        interval[str(i)] = np.array(interval[str(i)])\n",
    "    return interval"
   ]
  },
  {
   "cell_type": "markdown",
   "metadata": {},
   "source": [
    "DEFINITION OF THE FUNCTION TO CALCULATE THE ENTROPY OF EACH INTERVALL"
   ]
  },
  {
   "cell_type": "code",
   "execution_count": null,
   "metadata": {},
   "outputs": [],
   "source": [
    "def entropy_intervall(z,peak_pos,n=3,base = 10):\n",
    "    S_W = {}\n",
    "    intervall = intervall_divisor(z,peak_pos)\n",
    "    for i in range(0,n):\n",
    "        S_W[str(i)] = entropy(intervall[str(i)], base = base)/len(intervall[str(i)])\n",
    "    return S_W"
   ]
  },
  {
   "cell_type": "markdown",
   "metadata": {},
   "source": [
    "BIFURCATION CLASSIFIER"
   ]
  },
  {
   "cell_type": "code",
   "execution_count": null,
   "metadata": {},
   "outputs": [],
   "source": [
    "def Bif_classifier(peak_pos,z,th = 6.5,eps=0.1,last = False):\n",
    "    N = len(peak_pos)\n",
    "    first_peak = peak_pos[0]\n",
    "    last_peak = peak_pos[N-1]\n",
    "    f_peak_dist = np.floor((peak_pos[1] - peak_pos[0])/2)\n",
    "    l_peak_dist = np.floor((peak_pos[N-1] - peak_pos[N-2])/2)\n",
    "    z_left_f_peak = z[int(first_peak-f_peak_dist)]\n",
    "    z_right_f_peak = min([z[i] for i in range(peak_pos[0]-1,peak_pos[1])])\n",
    "    z_left_l_peak = z[int(last_peak-l_peak_dist)]\n",
    "    max_prom = max([z[i] for  i in [peak_pos[0],peak_pos[N-1]]])#max(peak_prominences(z,peak_pos)[0])\n",
    "    first_prom = peak_prominences(z,peak_pos)[0][0]\n",
    "    last_prom = peak_prominences(z,peak_pos)[0][-1]\n",
    "    if z[first_peak] /max_prom > eps:\n",
    "        if abs(z_left_f_peak) - abs(z_right_f_peak) < -th:\n",
    "            first_bif = 'SNIC'\n",
    "        else:\n",
    "            first_bif = 'SN'\n",
    "    else:\n",
    "        first_bif = 'Sup H'\n",
    "    z_right_l_peak = min([z[i] for i in range(peak_pos[N-2] , peak_pos[N-1]+1)])\n",
    "    if last is True and last_peak >= 3*N/4:\n",
    "        last_bif = 'Infinity'\n",
    "        return first_bif,last_bif\n",
    "    if z[last_peak] /max_prom > eps:\n",
    "        if z_left_l_peak - z_right_l_peak > th:\n",
    "            last_bif = 'SNIC'\n",
    "        else:\n",
    "            last_bif = 'SH'\n",
    "    else:\n",
    "        last_bif = 'Sup H'\n",
    "    return first_bif,last_bif"
   ]
  },
  {
   "cell_type": "markdown",
   "metadata": {},
   "source": [
    "DEFINITION OF THE FUNCTION TO CALCULATE ONSET AND OFFSET FEATURES"
   ]
  },
  {
   "cell_type": "code",
   "execution_count": null,
   "metadata": {},
   "outputs": [],
   "source": [
    "def on_off_features(z,events):  \n",
    "    list_on_amp = []\n",
    "    list_on_diff = []\n",
    "    list_off_amp = []\n",
    "    list_off_diff = []\n",
    "    for Burst in events:\n",
    "        bif =  Bif_detection(events[str(Burst)],z)\n",
    "        list_on_amp.append(bif[0])\n",
    "        list_on_diff.append(bif[1])\n",
    "        list_off_amp.append(bif[2])\n",
    "        list_off_diff.append(bif[3])\n",
    "    onset_amp = np.mean(np.array(list_on_amp))\n",
    "    onset_diff = np.mean(np.array(list_on_diff))\n",
    "    offset_amp = np.mean(np.array(list_off_amp))\n",
    "    offset_diff = np.mean(np.array(list_off_diff))\n",
    "    return np.array([onset_amp,onset_diff,offset_amp,offset_diff])"
   ]
  },
  {
   "cell_type": "markdown",
   "metadata": {},
   "source": [
    "DEFINITION OF THE FUNCTION FOR THE BURSTS FEATURES"
   ]
  },
  {
   "cell_type": "code",
   "execution_count": null,
   "metadata": {},
   "outputs": [],
   "source": [
    "def features_bursts(events,z):\n",
    "    tau_ave_burst = {}\n",
    "    tau_var_burst = {}\n",
    "    tau_slope_burst = {}\n",
    "    amp_ave_burst = {}\n",
    "    amp_var_burst = {}\n",
    "    amp_slope_burst = {}\n",
    "    for Burst in events:\n",
    "        tau_ave_burst[str(Burst)] = np.average(events[str(Burst)])\n",
    "        tau_var_burst[str(Burst)] = np.var(events[str(Burst)])/len(events[str(Burst)])\n",
    "        slope = (events[str(Burst)][-1]-events[str(Burst)][0])/len(events[str(Burst)])\n",
    "        if abs(slope) < 0.1:\n",
    "            tau_slope_burst[str(Burst)] = 0\n",
    "        elif slope > 0:\n",
    "            tau_slope_burst[str(Burst)] = 1\n",
    "        else:\n",
    "            tau_slope_burst[str(Burst)] = -1\n",
    "        amp = np.array([z[int(i)] for i in events[str(Burst)]])\n",
    "        amp_ave_burst[str(Burst)] = np.average(amp)\n",
    "        amp_var_burst[str(Burst)] = np.var(amp)/len(events[str(Burst)])\n",
    "        slope = (amp[-1]-amp[0])/(events[str(Burst)][-1]-events[str(Burst)][0])\n",
    "        if abs(slope) < 0.1:\n",
    "            amp_slope_burst[str(Burst)] = 0\n",
    "        elif slope > 0:\n",
    "            amp_slope_burst[str(Burst)] = 1\n",
    "        else:\n",
    "            amp_slope_burst[str(Burst)] = -1\n",
    "    return tau_ave_burst, tau_var_burst, amp_ave_burst, amp_var_burst, tau_slope_burst, amp_slope_burst"
   ]
  },
  {
   "cell_type": "markdown",
   "metadata": {},
   "source": [
    "DEFINITION OF THE FUNCTION FOR THE TIME SERIES FEATURES"
   ]
  },
  {
   "cell_type": "code",
   "execution_count": null,
   "metadata": {},
   "outputs": [],
   "source": [
    "def features_series(events,z,peak_pos,mode = 'all'):\n",
    "    f = features_bursts(events,z)\n",
    "    ave_on_serie_amp = 0\n",
    "    var_on_serie_amp = 0\n",
    "    ave_on_serie_tau = 0\n",
    "    var_on_serie_tau = 0\n",
    "    Tau = []\n",
    "    time = []\n",
    "    binary_arr = bin_peaks(z,events)\n",
    "    en = entropy(binary_arr, base = 10)/len(z)\n",
    "    S = en\n",
    "    if len(events) == 1:\n",
    "        Slow_ave_ts = len(z)\n",
    "        ISI_ave_serie = one_burst_selector(burst=events['0'],N = len(z))\n",
    "        ISI_var_serie = 0\n",
    "    else:\n",
    "        for Burst in events:\n",
    "            if int(Burst) < len(events)-1:\n",
    "                Tau.append(events[str(int(Burst)+1)][0]-events[str(Burst)][-1])\n",
    "                time.append(events[str(int(Burst)+1)][-1]-events[str(Burst)][-1])\n",
    "        Tau = np.array(Tau)\n",
    "        time = np.array(time)\n",
    "        Slow_ave_ts = np.average(time)\n",
    "        ISI_ave_serie = np.average(Tau)\n",
    "        ISI_var_serie = np.var(Tau)\n",
    "    binary_arr = bin_peaks(z,events)\n",
    "    en = entropy(binary_arr, base = 10)/len(z)\n",
    "    S = en\n",
    "    Num_of_spikes = 0\n",
    "    for Burst in events:\n",
    "        ave_on_serie_tau += f[0][str(Burst)]/(len(events))\n",
    "        var_on_serie_tau += f[1][str(Burst)]/(len(events))\n",
    "        ave_on_serie_amp += f[2][str(Burst)]/(len(events))\n",
    "        var_on_serie_amp += f[3][str(Burst)]/(len(events))\n",
    "        Num_of_spikes += len(events[str(Burst)])/len(z)\n",
    "        Num_burst = len(events)/len(z)\n",
    "\n",
    "    ent_window = entropy_intervall(z,peak_pos)\n",
    "    S_W_1 = ent_window['0']\n",
    "    S_W_2 = ent_window['1']\n",
    "    S_W_3 = ent_window['2']\n",
    "    S_comb = S*4218 + S_W_1 + S_W_2 + S_W_3\n",
    "    on_off = on_off_features(z,events)\n",
    "    onset_amp = on_off[0]\n",
    "    onset_diff = on_off[1]\n",
    "    offset_amp = on_off[2]\n",
    "    offset_diff = on_off[3]\n",
    "    off_diff_amp = np.log2(offset_diff+6.89*offset_amp)\n",
    "    on_off_amp = np.log2(onset_amp + offset_amp)\n",
    "    on_off_diff = onset_diff - 2*offset_diff\n",
    "    off_diff_ave_amp = offset_diff + 0.368*ave_on_serie_amp\n",
    "    on_amp_ave_amp = onset_amp + 0.0538*ave_on_serie_amp\n",
    "    off_amp_ave_amp = offset_amp + 0.0538*ave_on_serie_amp\n",
    "    features = {'ave_on_serie_amp':ave_on_serie_amp,'log2(var_on_serie_amp)':np.log2(var_on_serie_amp),'log2(S_comb)':np.log2(S_comb),'off_diff_amp': off_diff_amp,'on_off_amp':on_off_amp,\n",
    "                    'on_off_diff':on_off_diff,'off_diff_ave_amp':off_diff_ave_amp,'on_amp_ave_amp':on_amp_ave_amp,'off_amp_ave_amp':off_amp_ave_amp,\n",
    "                    'ave_on_serie_tau':ave_on_serie_tau,'var_on_serie_tau':var_on_serie_tau,'Num_burst':Num_burst,'Num_of_spikes':Num_of_spikes,\n",
    "                    'ISI_ave_serie':ISI_ave_serie,'ISI_var_serie':ISI_var_serie,'Slow_ave_ts':Slow_ave_ts}\n",
    "    #features = np.array([ave_on_serie_amp,np.log2(var_on_serie_amp), np.log2(S_comb),off_diff_amp,on_off_amp,on_off_diff,off_diff_ave_amp,on_amp_ave_amp,off_amp_ave_amp])\n",
    "    if mode == 'all':\n",
    "        return features\n",
    "    else:\n",
    "        selected_features = {}\n",
    "        for name in mode:\n",
    "            selected_features[name] = features[name]\n",
    "        return selected_features"
   ]
  },
  {
   "cell_type": "markdown",
   "metadata": {},
   "source": [
    "DEFINITION OF THE FUNCTION TO CALCULATE THE PEAKS POSITION"
   ]
  },
  {
   "cell_type": "code",
   "execution_count": 2,
   "metadata": {},
   "outputs": [],
   "source": [
    "def Peak_pos(z):\n",
    "    return find_peaks(z,height= -20)[0]"
   ]
  }
 ],
 "metadata": {
  "kernelspec": {
   "display_name": "base",
   "language": "python",
   "name": "python3"
  },
  "language_info": {
   "codemirror_mode": {
    "name": "ipython",
    "version": 3
   },
   "file_extension": ".py",
   "mimetype": "text/x-python",
   "name": "python",
   "nbconvert_exporter": "python",
   "pygments_lexer": "ipython3",
   "version": "3.9.12"
  }
 },
 "nbformat": 4,
 "nbformat_minor": 2
}
